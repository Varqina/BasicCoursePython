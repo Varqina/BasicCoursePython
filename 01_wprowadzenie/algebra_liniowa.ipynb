{
  "nbformat": 4,
  "nbformat_minor": 0,
  "metadata": {
    "colab": {
      "name": "Untitled0.ipynb",
      "provenance": [],
      "authorship_tag": "ABX9TyO/6J6wD1YrAliSu4XX+syS",
      "include_colab_link": true
    },
    "kernelspec": {
      "name": "python3",
      "display_name": "Python 3"
    }
  },
  "cells": [
    {
      "cell_type": "markdown",
      "metadata": {
        "id": "view-in-github",
        "colab_type": "text"
      },
      "source": [
        "<a href=\"https://colab.research.google.com/github/Varqina/BasicCoursePython/blob/master/01_wprowadzenie/algebra_liniowa.ipynb\" target=\"_parent\"><img src=\"https://colab.research.google.com/assets/colab-badge.svg\" alt=\"Open In Colab\"/></a>"
      ]
    },
    {
      "cell_type": "markdown",
      "metadata": {
        "id": "gOTg-lsHtcuB"
      },
      "source": [
        "Algebra Liniowa"
      ]
    },
    {
      "cell_type": "markdown",
      "metadata": {
        "id": "zTk9Pam_twB6"
      },
      "source": [
        "Norma wektorowa"
      ]
    },
    {
      "cell_type": "code",
      "metadata": {
        "colab": {
          "base_uri": "https://localhost:8080/"
        },
        "id": "GYLEhm2dthF3",
        "outputId": "91caf77e-c64b-42dc-b5f8-dff25af4f5c7"
      },
      "source": [
        "import numpy as np\r\n",
        "v1 = np.array([-6,4])\r\n",
        "v1"
      ],
      "execution_count": 4,
      "outputs": [
        {
          "output_type": "execute_result",
          "data": {
            "text/plain": [
              "array([-6,  4])"
            ]
          },
          "metadata": {
            "tags": []
          },
          "execution_count": 4
        }
      ]
    },
    {
      "cell_type": "code",
      "metadata": {
        "colab": {
          "base_uri": "https://localhost:8080/"
        },
        "id": "DqU41XQ0t4P0",
        "outputId": "3227c5d1-6ed6-4925-d063-b2ab724cac14"
      },
      "source": [
        "np.linalg.norm(v1) # dlugosc wektora "
      ],
      "execution_count": 5,
      "outputs": [
        {
          "output_type": "execute_result",
          "data": {
            "text/plain": [
              "7.211102550927978"
            ]
          },
          "metadata": {
            "tags": []
          },
          "execution_count": 5
        }
      ]
    },
    {
      "cell_type": "code",
      "metadata": {
        "colab": {
          "base_uri": "https://localhost:8080/"
        },
        "id": "Vx2O7gRTuCr4",
        "outputId": "ddd4afd1-9124-47cf-8644-689fa31686f1"
      },
      "source": [
        "v2 = np.array([-10, 10, 13])\r\n",
        "np.linalg.norm(v2)"
      ],
      "execution_count": 7,
      "outputs": [
        {
          "output_type": "execute_result",
          "data": {
            "text/plain": [
              "19.209372712298546"
            ]
          },
          "metadata": {
            "tags": []
          },
          "execution_count": 7
        }
      ]
    },
    {
      "cell_type": "markdown",
      "metadata": {
        "id": "QHiMYl-IvLUv"
      },
      "source": [
        "Odleglosc dwoch punktow na plaszczyznie\r\n"
      ]
    },
    {
      "cell_type": "code",
      "metadata": {
        "colab": {
          "base_uri": "https://localhost:8080/"
        },
        "id": "RwC2PYyIuX_m",
        "outputId": "080130e4-abe4-491d-9e3d-05bbae09ce2e"
      },
      "source": [
        "p = np.array([3,0])\r\n",
        "q = np.array([0,4])\r\n",
        "np.linalg.norm(p-q)"
      ],
      "execution_count": 8,
      "outputs": [
        {
          "output_type": "execute_result",
          "data": {
            "text/plain": [
              "5.0"
            ]
          },
          "metadata": {
            "tags": []
          },
          "execution_count": 8
        }
      ]
    },
    {
      "cell_type": "markdown",
      "metadata": {
        "id": "vn09tBPzyazu"
      },
      "source": [
        "Mnozenie maciezy"
      ]
    },
    {
      "cell_type": "code",
      "metadata": {
        "colab": {
          "base_uri": "https://localhost:8080/"
        },
        "id": "bLM8tx5-yeDY",
        "outputId": "ac8f703f-e5ff-4ccb-c273-e8881dd43aa6"
      },
      "source": [
        "x = np.array([[5,3],[3,9]])\r\n",
        "y = np.array([[1],[-1]])\r\n",
        "print(x, '\\n')\r\n",
        "print(y)"
      ],
      "execution_count": 11,
      "outputs": [
        {
          "output_type": "stream",
          "text": [
            "[[5 3]\n",
            " [3 9]] \n",
            "\n",
            "[[ 1]\n",
            " [-1]]\n"
          ],
          "name": "stdout"
        }
      ]
    },
    {
      "cell_type": "code",
      "metadata": {
        "colab": {
          "base_uri": "https://localhost:8080/"
        },
        "id": "DXqi2X312e5B",
        "outputId": "0454e8d2-71eb-4c7e-ab5c-882b89ecf980"
      },
      "source": [
        "z = np.dot(x,y)\r\n",
        "z"
      ],
      "execution_count": 14,
      "outputs": [
        {
          "output_type": "execute_result",
          "data": {
            "text/plain": [
              "array([[ 2],\n",
              "       [-6]])"
            ]
          },
          "metadata": {
            "tags": []
          },
          "execution_count": 14
        }
      ]
    },
    {
      "cell_type": "code",
      "metadata": {
        "colab": {
          "base_uri": "https://localhost:8080/"
        },
        "id": "mMBfhcmj2jui",
        "outputId": "0864b106-d9ef-4ab1-8e6e-b2acec5fd5b0"
      },
      "source": [
        "z.shape"
      ],
      "execution_count": 16,
      "outputs": [
        {
          "output_type": "execute_result",
          "data": {
            "text/plain": [
              "(2, 1)"
            ]
          },
          "metadata": {
            "tags": []
          },
          "execution_count": 16
        }
      ]
    },
    {
      "cell_type": "code",
      "metadata": {
        "colab": {
          "base_uri": "https://localhost:8080/"
        },
        "id": "8wkSfCD02o2m",
        "outputId": "85141cfa-d30e-4181-c12c-952b3177fc55"
      },
      "source": [
        "x = np.array([[2, -1, 3],\r\n",
        "              [3,1,0]])\r\n",
        "y = np.array([[2,1,-1],\r\n",
        "              [0, -1,2],\r\n",
        "              [3, 2, 0]])\r\n",
        "z = np.dot(x,y)\r\n",
        "z"
      ],
      "execution_count": 18,
      "outputs": [
        {
          "output_type": "execute_result",
          "data": {
            "text/plain": [
              "array([[13,  9, -4],\n",
              "       [ 6,  2, -1]])"
            ]
          },
          "metadata": {
            "tags": []
          },
          "execution_count": 18
        }
      ]
    },
    {
      "cell_type": "code",
      "metadata": {
        "colab": {
          "base_uri": "https://localhost:8080/"
        },
        "id": "JvxMoRVv3is6",
        "outputId": "41ac0d1d-a421-49ed-eee7-812dbdf7c446"
      },
      "source": [
        "z.shape"
      ],
      "execution_count": 19,
      "outputs": [
        {
          "output_type": "execute_result",
          "data": {
            "text/plain": [
              "(2, 3)"
            ]
          },
          "metadata": {
            "tags": []
          },
          "execution_count": 19
        }
      ]
    },
    {
      "cell_type": "markdown",
      "metadata": {
        "id": "b73vc-36-L5U"
      },
      "source": [
        "Wyznacznik maciezy (a11a22-a12a21)\r\n"
      ]
    },
    {
      "cell_type": "code",
      "metadata": {
        "colab": {
          "base_uri": "https://localhost:8080/"
        },
        "id": "Bl5wRYEA-uqH",
        "outputId": "8eac22b7-2309-44ca-e761-1219d5940630"
      },
      "source": [
        "A = np.array([[2, 4], [-1,3]])\r\n",
        "round(np.linalg.det(A))"
      ],
      "execution_count": 21,
      "outputs": [
        {
          "output_type": "execute_result",
          "data": {
            "text/plain": [
              "10"
            ]
          },
          "metadata": {
            "tags": []
          },
          "execution_count": 21
        }
      ]
    },
    {
      "cell_type": "markdown",
      "metadata": {
        "id": "EIdo7KdZ_DOE"
      },
      "source": [
        "Slad Macierzy, suma wartoci na przekatnej"
      ]
    },
    {
      "cell_type": "code",
      "metadata": {
        "colab": {
          "base_uri": "https://localhost:8080/"
        },
        "id": "ooOVXXMe-6q4",
        "outputId": "12d540f3-9439-4945-c2a7-6258f5d1e4c1"
      },
      "source": [
        "np.trace(A)"
      ],
      "execution_count": 22,
      "outputs": [
        {
          "output_type": "execute_result",
          "data": {
            "text/plain": [
              "5"
            ]
          },
          "metadata": {
            "tags": []
          },
          "execution_count": 22
        }
      ]
    },
    {
      "cell_type": "markdown",
      "metadata": {
        "id": "Buh1l-3B_r5z"
      },
      "source": [
        "Macierz jednostkowa, macierz kwadratowa\r\n",
        "jedynki na przekatnej "
      ]
    },
    {
      "cell_type": "code",
      "metadata": {
        "colab": {
          "base_uri": "https://localhost:8080/"
        },
        "id": "nbTiPxsG_vtp",
        "outputId": "02a068ac-93eb-4ffd-9e1e-7ae2b3b9f1c1"
      },
      "source": [
        "np.eye(5, dtype=int)"
      ],
      "execution_count": 23,
      "outputs": [
        {
          "output_type": "execute_result",
          "data": {
            "text/plain": [
              "array([[1, 0, 0, 0, 0],\n",
              "       [0, 1, 0, 0, 0],\n",
              "       [0, 0, 1, 0, 0],\n",
              "       [0, 0, 0, 1, 0],\n",
              "       [0, 0, 0, 0, 1]])"
            ]
          },
          "metadata": {
            "tags": []
          },
          "execution_count": 23
        }
      ]
    },
    {
      "cell_type": "markdown",
      "metadata": {
        "id": "1gNGUuBtAMP6"
      },
      "source": [
        "Macierz odwrotna, macierz kwadratowa. A*B = B*a = macierz jednostkowa"
      ]
    },
    {
      "cell_type": "code",
      "metadata": {
        "colab": {
          "base_uri": "https://localhost:8080/"
        },
        "id": "uhDK4wFKAKWZ",
        "outputId": "89e4c313-44b8-4a24-b693-73a1bc8a26e5"
      },
      "source": [
        "B = np.linalg.inv(A)\r\n",
        "B"
      ],
      "execution_count": 26,
      "outputs": [
        {
          "output_type": "execute_result",
          "data": {
            "text/plain": [
              "array([[ 0.3, -0.4],\n",
              "       [ 0.1,  0.2]])"
            ]
          },
          "metadata": {
            "tags": []
          },
          "execution_count": 26
        }
      ]
    },
    {
      "cell_type": "code",
      "metadata": {
        "colab": {
          "base_uri": "https://localhost:8080/"
        },
        "id": "yoBSEoVLAmqK",
        "outputId": "dcabe38c-74b6-4be9-8ce5-d1737a2a849f"
      },
      "source": [
        "np.set_printoptions(precision=4, suppress=True)\r\n",
        "A.dot(B)"
      ],
      "execution_count": 28,
      "outputs": [
        {
          "output_type": "execute_result",
          "data": {
            "text/plain": [
              "array([[1., 0.],\n",
              "       [0., 1.]])"
            ]
          },
          "metadata": {
            "tags": []
          },
          "execution_count": 28
        }
      ]
    },
    {
      "cell_type": "code",
      "metadata": {
        "colab": {
          "base_uri": "https://localhost:8080/"
        },
        "id": "sDyX0aH2A42V",
        "outputId": "3e1848a2-2bc0-4bfb-d587-17f69791de80"
      },
      "source": [
        "B.dot(A)"
      ],
      "execution_count": 29,
      "outputs": [
        {
          "output_type": "execute_result",
          "data": {
            "text/plain": [
              "array([[ 1., -0.],\n",
              "       [ 0.,  1.]])"
            ]
          },
          "metadata": {
            "tags": []
          },
          "execution_count": 29
        }
      ]
    },
    {
      "cell_type": "markdown",
      "metadata": {
        "id": "EvBuYHMRDWa0"
      },
      "source": [
        "Macierz transponowana. Zamiania wierszy na columny"
      ]
    },
    {
      "cell_type": "code",
      "metadata": {
        "id": "nMbv2SgbBXwK"
      },
      "source": [
        "C = np.array([[1,2,3],\r\n",
        "          [2,3,4]])\r\n"
      ],
      "execution_count": 30,
      "outputs": []
    },
    {
      "cell_type": "code",
      "metadata": {
        "colab": {
          "base_uri": "https://localhost:8080/"
        },
        "id": "8Wc4vo8TDmWV",
        "outputId": "dd939d33-2188-4cc4-9200-67c4e79b5511"
      },
      "source": [
        "C.T"
      ],
      "execution_count": 31,
      "outputs": [
        {
          "output_type": "execute_result",
          "data": {
            "text/plain": [
              "array([[1, 2],\n",
              "       [2, 3],\n",
              "       [3, 4]])"
            ]
          },
          "metadata": {
            "tags": []
          },
          "execution_count": 31
        }
      ]
    },
    {
      "cell_type": "markdown",
      "metadata": {
        "id": "ngk6vglxIOL_"
      },
      "source": [
        "Uklady rownan\r\n",
        "\r\n",
        "rowanie 2x+4y = 10\r\n",
        "\r\n",
        "x - y = -1\r\n"
      ]
    },
    {
      "cell_type": "code",
      "metadata": {
        "colab": {
          "base_uri": "https://localhost:8080/"
        },
        "id": "4a2BWPn3JDru",
        "outputId": "ef1c49ba-ed30-4532-a9d2-332651b183db"
      },
      "source": [
        "A = np.array([[2,4], [1, -1]])\r\n",
        "print(A)"
      ],
      "execution_count": 38,
      "outputs": [
        {
          "output_type": "stream",
          "text": [
            "[[ 2  4]\n",
            " [ 1 -1]]\n"
          ],
          "name": "stdout"
        }
      ]
    },
    {
      "cell_type": "code",
      "metadata": {
        "colab": {
          "base_uri": "https://localhost:8080/"
        },
        "id": "1Toz_ALuJZjh",
        "outputId": "6451b13b-17c5-46df-ab98-c81251e662ad"
      },
      "source": [
        "B = np.array([[10],[-1]])\r\n",
        "print(B)"
      ],
      "execution_count": 42,
      "outputs": [
        {
          "output_type": "stream",
          "text": [
            "[[10]\n",
            " [-1]]\n"
          ],
          "name": "stdout"
        }
      ]
    },
    {
      "cell_type": "code",
      "metadata": {
        "colab": {
          "base_uri": "https://localhost:8080/"
        },
        "id": "jky2jH9XJvI5",
        "outputId": "f2f23ba2-6e13-42d5-a5ca-bc3256e23170"
      },
      "source": [
        "np.around(0)\r\n",
        "a_inv = np.linalg.inv(A)\r\n",
        "np.dot(a_inv, B)"
      ],
      "execution_count": 44,
      "outputs": [
        {
          "output_type": "execute_result",
          "data": {
            "text/plain": [
              "array([[1.],\n",
              "       [2.]])"
            ]
          },
          "metadata": {
            "tags": []
          },
          "execution_count": 44
        }
      ]
    },
    {
      "cell_type": "code",
      "metadata": {
        "id": "pqFjI-xpJ-Bn"
      },
      "source": [
        ""
      ],
      "execution_count": null,
      "outputs": []
    }
  ]
}